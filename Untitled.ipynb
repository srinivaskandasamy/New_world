{
 "cells": [
  {
   "cell_type": "code",
   "execution_count": null,
   "metadata": {
    "collapsed": true
   },
   "outputs": [],
   "source": [
    "# Clubbing of landmarks\n",
    "t = 0.75\n",
    "# for i in range(len(r)):\n",
    "i = 3\n",
    "print \"max(r[i])\",max(r[i])\n",
    "threshold = max(r[i])*t\n",
    "print \"Threshold\",threshold\n",
    "for j in range(len(r[i])):\n",
    "    print \"Lets see\",r[i]\n",
    "    print \"Starting with\",j\n",
    "    print \"Element\",r[i][j]\n",
    "    print \"max\",max(r[i])\n",
    "    if r[i][j] == max(r[i]):\n",
    "        print \"Wall\"\n",
    "        continue\n",
    "    if j>=100 and j <=380 and max(r[i][j-k] for k in range(100)) > threshold and max(r[i][j+k] for k in range(100)) > threshold:\n",
    "        print \"In the middle loop\"\n",
    "        for k in range(100): # Corridor width threshold\n",
    "            r[i][j-k]=max(r[i])\n",
    "            r[i][j+k]=max(r[i])\n",
    "    else:\n",
    "        if j < 100:# and max(r[i][j+k] for k in range(30)) < threshold:\n",
    "            for m in range(100):\n",
    "                if r[i][j+m] < threshold:\n",
    "                    r[i][j+m] = 1e-3\n",
    "            print \"I am correct\"\n",
    "#             for l in range(30):\n",
    "#                 r[i][j+l] = 1e-3\n",
    "            print \"Finished I am correct\"\n",
    "        elif j < 100: and max(r[i][j+k] for k in range(30)) > threshold:\n",
    "            print \"I am correct to\"\n",
    "            for l in range(30):\n",
    "                r[i][j+l] = max(r[i])\n",
    "            print \"Finished I am correct to\"\n",
    "        elif j > 380 and max(r[i][479-k] for k in range(30)) < threshold:\n",
    "            print \"I am correct too\"\n",
    "            for l in range(100):\n",
    "                r[i][479-l] = 1e-3\n",
    "                print \"Finished I am correct too\"\n",
    "        elif j > 380 and max(r[i][479-k] for k in range(30)) > threshold:\n",
    "            print \"I am correct tooo\"\n",
    "            for l in range(100):\n",
    "                r[i][479-l] = max(r[i])\n",
    "            print \"Finished I am correct tooo\""
   ]
  }
 ],
 "metadata": {
  "kernelspec": {
   "display_name": "Python 2",
   "language": "python",
   "name": "python2"
  },
  "language_info": {
   "codemirror_mode": {
    "name": "ipython",
    "version": 2
   },
   "file_extension": ".py",
   "mimetype": "text/x-python",
   "name": "python",
   "nbconvert_exporter": "python",
   "pygments_lexer": "ipython2",
   "version": "2.7.8"
  }
 },
 "nbformat": 4,
 "nbformat_minor": 0
}
