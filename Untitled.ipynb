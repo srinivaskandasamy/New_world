{
 "cells": [
  {
   "cell_type": "code",
   "execution_count": null,
   "metadata": {
    "collapsed": true
   },
   "outputs": [],
   "source": [
    "    def tree_map(poses):\n",
    "\n",
    "        l = self.length\n",
    "        ww =  30\n",
    "        for j in range(4): # Wall type\n",
    "            wo = poses[3]*(180/pi)\n",
    "            if wo == int(self.w[j][0]): # Correspond the measurement to the leaf of the tree\n",
    "                if wo % 180 == 0:\n",
    "                    m = 0 # Flag to check for update\n",
    "                    for k in range(len(self.w[j])):\n",
    "                        if poses[0] == self.w[j][k][0]:\n",
    "                            self.dis_Bayes(self.w[j][k][1],int(poses[1]),20) # wall_list[w[j][k][1]][int(poses[1])] = 1\n",
    "                            m = 1\n",
    "\n",
    "                    if m == 0:\n",
    "                        # Create a new list and update them\n",
    "                        r = 0\n",
    "                        if len(self.w[(j+2)%4]) != 1:\n",
    "                            for k in arange(1,len(self.w[(j+2)%4]),1):\n",
    "                                if (poses[0]-ww) == self.w[(j+2)%4][k][0]:\n",
    "                                    self.w[j].insert(1,[poses[0],self.w[(j+2)%4][k][1]])\n",
    "                                    self.dis_Bayes(self.w[(j+2)%4][k][1],int(poses[1]),20)\n",
    "        #                             wall_list[w[(j+2)%4][k][1]][int(poses[1])] = 1\n",
    "                                    r = 1\n",
    "                                elif (poses[0]+ww) == self.w[(j+2)%4][k][0]:\n",
    "                                    self.w[j].insert(1,[poses[0],self.w[(j+2)%4][k][1]])\n",
    "                                    self.dis_Bayes(self.w[(j+2)%4][k][1],int(poses[1]),20)\n",
    "        #                             wall_list[w[(j+2)%4][k][1]][int(poses[1])] = 1\n",
    "                                    r = 1\n",
    "                        if r == 0:\n",
    "                            self.w[j].insert(1,[poses[0],self.var])\n",
    "                            self.wall_list.append([1/l]*l)\n",
    "                            self.dis_Bayes(self.var,int(poses[1]),20)\n",
    "                            self.var=self.var+1\n",
    "\n",
    "                else:\n",
    "                    m = 0\n",
    "                    for k in range(len(self.w[j])):\n",
    "                        if poses[1] == self.w[j][k][0]:\n",
    "        #                     wall_list[w[j][k][1]][int(poses[0])] = 1\n",
    "                            self.dis_Bayes(self.w[j][k][1],int(poses[0]),20)\n",
    "                            m = 1\n",
    "                    if m == 0:\n",
    "                        # Create a new list\n",
    "                        r = 0\n",
    "                        if len(self.w[(j+2)%4]) != 1:\n",
    "                            for k in arange(1,len(self.w[(j+2)%4]),1):\n",
    "                                if poses[1]-ww == self.w[(j+2)%4][k][1]: \n",
    "                                    self.w[j].insert(1,[poses[1]-ww,self.w[(j+2)%4][k][1]])\n",
    "                                    self.dis_Bayes(self.w[(j+2)%4][k][1],int(poses[0]),20)\n",
    "        #                             wall_list[w[(j+2)%4][k][1]][int(poses[0])] = 1\n",
    "                                    r = 1\n",
    "                                elif poses[1]+ww == self.w[(j+2)%4][k][0]: \n",
    "                                    self.w[j].insert(1,[poses[1]+ww,self.w[(j+2)%4][k][1]])\n",
    "                                    self.dis_Bayes(self.w[(j+2)%4][k][1],int(poses[0]),20)\n",
    "        #                             wall_list[w[(j+2)%4][k][1]][int(poses[0])] = 1\n",
    "                                    r = 1\n",
    "                        if r == 0:\n",
    "                            self.w[j].insert(1,[poses[1],self.var])\n",
    "                            self.wall_list.append([1/l]*l)\n",
    "                            self.dis_Bayes(self.var,int(poses[0]),20)\n",
    "                            self.var=self.var+1"
   ]
  }
 ],
 "metadata": {
  "kernelspec": {
   "display_name": "Python 2",
   "language": "python",
   "name": "python2"
  },
  "language_info": {
   "codemirror_mode": {
    "name": "ipython",
    "version": 2
   },
   "file_extension": ".py",
   "mimetype": "text/x-python",
   "name": "python",
   "nbconvert_exporter": "python",
   "pygments_lexer": "ipython2",
   "version": "2.7.8"
  }
 },
 "nbformat": 4,
 "nbformat_minor": 0
}
