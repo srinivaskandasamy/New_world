{
 "cells": [
  {
   "cell_type": "code",
   "execution_count": 2,
   "metadata": {
    "collapsed": false,
    "scrolled": false
   },
   "outputs": [
    {
     "ename": "AttributeError",
     "evalue": "Canvas instance has no attribute 'callme'",
     "output_type": "error",
     "traceback": [
      "\u001b[1;31m---------------------------------------------------------------------------\u001b[0m",
      "\u001b[1;31mAttributeError\u001b[0m                            Traceback (most recent call last)",
      "\u001b[1;32m<ipython-input-2-98ee2d11d38f>\u001b[0m in \u001b[0;36m<module>\u001b[1;34m()\u001b[0m\n\u001b[0;32m     66\u001b[0m     \u001b[0mcontrol\u001b[0m \u001b[1;33m=\u001b[0m \u001b[1;33m[\u001b[0m\u001b[1;36m1\u001b[0m\u001b[1;33m,\u001b[0m\u001b[1;36m1\u001b[0m\u001b[1;33m]\u001b[0m\u001b[1;33m\u001b[0m\u001b[0m\n\u001b[0;32m     67\u001b[0m \u001b[1;31m#     s.callme(pose,control,w)\u001b[0m\u001b[1;33m\u001b[0m\u001b[1;33m\u001b[0m\u001b[0m\n\u001b[1;32m---> 68\u001b[1;33m     \u001b[0mw\u001b[0m\u001b[1;33m.\u001b[0m\u001b[0mcallme\u001b[0m\u001b[1;33m(\u001b[0m\u001b[0mpose\u001b[0m\u001b[1;33m,\u001b[0m\u001b[0mcontrol\u001b[0m\u001b[1;33m)\u001b[0m\u001b[1;33m\u001b[0m\u001b[0m\n\u001b[0m\u001b[0;32m     69\u001b[0m \u001b[1;31m#     pose = s.motion(pose,control,0.1)\u001b[0m\u001b[1;33m\u001b[0m\u001b[1;33m\u001b[0m\u001b[0m\n\u001b[0;32m     70\u001b[0m \u001b[1;31m#     print pose\u001b[0m\u001b[1;33m\u001b[0m\u001b[1;33m\u001b[0m\u001b[0m\n",
      "\u001b[1;31mAttributeError\u001b[0m: Canvas instance has no attribute 'callme'"
     ]
    }
   ],
   "source": [
    "from Tkinter import *\n",
    "from math import sin, cos, pi, fabs\n",
    "from numpy import sign\n",
    "import sys\n",
    "from boundaries import boundaries\n",
    "from walls import walls\n",
    "from Sphero import Sphero\n",
    "\n",
    "# Class Sphero - robot object to be created (Done) %run Sphero.ipynb\n",
    "# Class Walls to be created\n",
    "# Class world to be created which contains the boundaries, walls (worls is a parent for walls, trajectory, entry and exit points)\n",
    "# Class Sphero_trajectory - Creating the waypoint trajectory for the robot (child of room)\n",
    "# Class 1D - Gaussian along the wall to represent the collision (this will become the child of walls)\n",
    "# Lets create a superior set of features, which contains the boundaries set (1,2,3,4) and the set of walls (1,2,3,4) and it is \n",
    "# easy to maintain a set of probability grid and more easy for mapping and SLAM as well.\n",
    "\n",
    "class world(object):\n",
    "    \"\"\" An artificial world is created for the SLAM problem. The other objects in the world are child classes in the artificial \n",
    "    world\"\"\"\n",
    "    def draw(self, at_step):\n",
    "        print \"Object to be drawn at certain point of time:\", at_step\n",
    "        \n",
    "    def background_draw(self):\n",
    "        print \"Background to be drawn\"\n",
    "        \n",
    "def callme(self,pose,control):\n",
    "\n",
    "    pose = s.motion(pose,control,0.1)\n",
    "    print pose\n",
    "    f = s.draw(pose)\n",
    "    \n",
    "    for i in range(len(f[0])):\n",
    "        self.create_line(f[0][(i)%len(f[0])],f[1][(i)%len(f[0])],f[0][(i+1)%len(f[0])],f[1][(i+1)%len(f[0])])\n",
    "        \n",
    "    self.after(1000,self.callme(pose,control))\n",
    "    \n",
    "        \n",
    "if __name__ ==\"__main__\":\n",
    "\n",
    "    # Specifications of the world\n",
    "    origin = (2,2)\n",
    "    world_size = (498, 498)   # 750,750\n",
    "    wall_width = 10 \n",
    "    wall_location =[[origin[0]+(world_size[0])/4,origin[1]+wall_width,origin[0]+(world_size[0])/4,origin[1]+wall_width+(world_size[1])*3/4],\n",
    "                    [origin[0]+(world_size[0])/2,origin[1]+wall_width+(world_size[1])*1/4,origin[0]+(world_size[0])/2,origin[1]+world_size[1]],\n",
    "                    [origin[0]+(world_size[0])*3/4,origin[1]+wall_width,origin[0]+(world_size[0])*3/4,origin[1]+wall_width+(world_size[1])*3/4]] \n",
    "    \n",
    "    #Initialization of boundary and walls\n",
    "    sri = boundaries(world_size,wall_width) \n",
    "    mw = walls(wall_width,wall_location)\n",
    "    \n",
    "    # Intialization of GUI\n",
    "    master = Tk()\n",
    "    w = Canvas(master,width=500,height=500) # 2500,2500\n",
    "    w.pack()\n",
    "    \n",
    "    # Creating world objects\n",
    "    sri.draw(origin,w)\n",
    "    mw.draw(wall_width,wall_location,w)\n",
    "    parray = sri.boundary_grid(origin,w)\n",
    "    warray = mw.wall_grid(wall_width,wall_location,w)\n",
    "    \n",
    "    # Creating Sphero robot\n",
    "    s = Sphero()\n",
    "    pose = [100,150,0]\n",
    "    control = [1,1]\n",
    "#     s.callme(pose,control,w)\n",
    "    w.callme(pose,control)\n",
    "#     pose = s.motion(pose,control,0.1)\n",
    "#     print pose\n",
    "#     f = s.draw(pose)\n",
    "    \n",
    "#     for i in range(len(f[0])):\n",
    "#         w.create_line(f[0][(i)%len(f[0])],f[1][(i)%len(f[0])],f[0][(i+1)%len(f[0])],f[1][(i+1)%len(f[0])])\n",
    "    \n",
    "    # Draw GUI\n",
    "    mainloop()"
   ]
  }
 ],
 "metadata": {
  "kernelspec": {
   "display_name": "Python 2",
   "language": "python",
   "name": "python2"
  },
  "language_info": {
   "codemirror_mode": {
    "name": "ipython",
    "version": 2
   },
   "file_extension": ".py",
   "mimetype": "text/x-python",
   "name": "python",
   "nbconvert_exporter": "python",
   "pygments_lexer": "ipython2",
   "version": "2.7.8"
  }
 },
 "nbformat": 4,
 "nbformat_minor": 0
}
