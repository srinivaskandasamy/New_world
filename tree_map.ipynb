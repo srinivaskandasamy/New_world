{
 "cells": [
  {
   "cell_type": "code",
   "execution_count": 62,
   "metadata": {
    "collapsed": false
   },
   "outputs": [
    {
     "name": "stdout",
     "output_type": "stream",
     "text": [
      "w\n",
      "b4\n",
      "b1\n",
      "b2\n",
      "b3\n",
      "Yes 4\n",
      "['b3', ['b5', [2, 1, 1], [2, 2, 1], [2, 2, 2]]]\n"
     ]
    }
   ],
   "source": [
    "# Map as a tree\n",
    "# Pop removes the element of the list and insert appends to the specified element and increments the index of the remaining\n",
    "\n",
    "w = ['w',['b1',[0,0,1],[0,1,1]],['b2',[1,1,1],[1,2,1]],['b3',['b5',[2,1,1],[2,2,1]]]]\n",
    "# print \"Before\",w\n",
    "# a = w.pop(1) \n",
    "# print w[1]\n",
    "w.insert(1,['b4',[3,1,1],[3,2,1]])\n",
    "# print \"After\",w\n",
    "for i in range(len(w)):\n",
    "    print w[i][0]\n",
    "    if w[i][0]=='b3':\n",
    "        print \"Yes\",i\n",
    "        w.insert(i,w[i][1].append([2,2,2]))\n",
    "        w.pop(4)\n",
    "# w[4][1].append([2,2,2])\n",
    "print w[4]"
   ]
  }
 ],
 "metadata": {
  "kernelspec": {
   "display_name": "Python 2",
   "language": "python",
   "name": "python2"
  },
  "language_info": {
   "codemirror_mode": {
    "name": "ipython",
    "version": 2
   },
   "file_extension": ".py",
   "mimetype": "text/x-python",
   "name": "python",
   "nbconvert_exporter": "python",
   "pygments_lexer": "ipython2",
   "version": "2.7.8"
  }
 },
 "nbformat": 4,
 "nbformat_minor": 0
}
