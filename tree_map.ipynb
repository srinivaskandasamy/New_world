{
 "cells": [
  {
   "cell_type": "code",
   "execution_count": 21,
   "metadata": {
    "collapsed": false
   },
   "outputs": [
    {
     "name": "stdout",
     "output_type": "stream",
     "text": [
      "Before ['w', ['b1', [0, 0, 1], [0, 1, 1]], ['b2', [1, 1, 1], [1, 2, 1]], ['b3', ['b5', [2, 1, 1], [2, 2, 1]]]]\n",
      "After ['w', ['b4', [3, 1, 1], [3, 2, 1]], ['b2', [1, 1, 1], [1, 2, 1]], ['b3', ['b5', [2, 1, 1], [2, 2, 1]]]]\n",
      "w\n",
      "b4\n",
      "b2\n",
      "b3\n",
      "Yes 3\n",
      "['w', ['b4', [3, 1, 1], [3, 2, 1]], ['b2', [1, 1, 1], [1, 2, 1]], ['b3', ['b5', [2, 1, 1], [2, 2, 1], [2, 2, 2]]]]\n"
     ]
    }
   ],
   "source": [
    "# Map as a tree\n",
    "# Pop removes the element of the list and insert appends to the specified element and increments the index of the remaining\n",
    "\n",
    "w = ['w',['b1',[0,0,1],[0,1,1]],['b2',[1,1,1],[1,2,1]],['b3',['b5',[2,1,1],[2,2,1]]]]\n",
    "print \"Before\",w\n",
    "a = w.pop(1)\n",
    "w.insert(1,['b4',[3,1,1],[3,2,1]])\n",
    "print \"After\",w\n",
    "for i in range(len(w)):\n",
    "    print w[i][0]\n",
    "    if w[i][0]=='b3':\n",
    "        print \"Yes\",i\n",
    "        w[i][1].insert(3,[2,2,2])\n",
    "#         w.pop(4)\n",
    "# # w[4][1].append([2,2,2])\n",
    "print w"
   ]
  },
  {
   "cell_type": "code",
   "execution_count": 30,
   "metadata": {
    "collapsed": false
   },
   "outputs": [
    {
     "name": "stdout",
     "output_type": "stream",
     "text": [
      "['map', ['0'], ['90'], ['180'], ['270']]\n",
      "0\n"
     ]
    }
   ],
   "source": [
    "n=10\n",
    "l=[1./n]*n\n",
    "a=['map',['0'],['90'],['180'],['270']]\n",
    "print a\n",
    "# a[1].insert(1,[22,l])\n",
    "# print a\n",
    "print a[1][0]"
   ]
  },
  {
   "cell_type": "code",
   "execution_count": 25,
   "metadata": {
    "collapsed": false
   },
   "outputs": [
    {
     "name": "stdout",
     "output_type": "stream",
     "text": [
      "90\n",
      "90\n",
      "Correct\n"
     ]
    }
   ],
   "source": [
    "from math import pi\n",
    "print a[2][0]\n",
    "phi = int((pi/2)*180/pi)\n",
    "print phi\n",
    "if phi == int(a[2][0]):\n",
    "    print \"Correct\""
   ]
  },
  {
   "cell_type": "code",
   "execution_count": null,
   "metadata": {
    "collapsed": true
   },
   "outputs": [],
   "source": []
  }
 ],
 "metadata": {
  "kernelspec": {
   "display_name": "Python 2",
   "language": "python",
   "name": "python2"
  },
  "language_info": {
   "codemirror_mode": {
    "name": "ipython",
    "version": 2
   },
   "file_extension": ".py",
   "mimetype": "text/x-python",
   "name": "python",
   "nbconvert_exporter": "python",
   "pygments_lexer": "ipython2",
   "version": "2.7.8"
  }
 },
 "nbformat": 4,
 "nbformat_minor": 0
}
