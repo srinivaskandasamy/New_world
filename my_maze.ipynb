{
 "cells": [
  {
   "cell_type": "code",
   "execution_count": 6,
   "metadata": {
    "collapsed": true
   },
   "outputs": [],
   "source": [
    "from Tkinter import *\n",
    "from math import sin, cos, pi\n",
    "\n",
    "# Class Sphero - robot object to be created (Done) %run Sphero.ipynb\n",
    "# Class Walls to be created\n",
    "# Class world to be created which contains the boundaries, walls (worls is a parent for walls, trajectory, entry and exit points)\n",
    "# Class Sphero_trajectory - Creating the waypoint trajectory for the robot (child of room)\n",
    "# Class 1D - Gaussian along the wall to represent the collision (this will become the child of walls)\n",
    "\n",
    "class world(object):\n",
    "    \"\"\" An artificial world is created for the SLAM problem. The other objects in the world are child classes in the artificial \n",
    "    world\"\"\"\n",
    "    def draw(self, at_step):\n",
    "        print \"Object to be drawn at certain point of time:\", at_step\n",
    "        \n",
    "    def background_draw(self):\n",
    "        print \"Background to be drawn\"\n",
    "        \n",
    "world_size = (225.0, 225.0)\n",
    "boundary_width = 5\n",
    "\n",
    "class boundaries(world):\n",
    "    \n",
    "    def __init__(self, world_size, boundary_width):\n",
    "        self.world_size = world_size\n",
    "\n",
    "\n",
    "\n",
    "master = Tk()\n",
    "w = Canvas(master,width=200,height=100)\n",
    "w.pack()\n",
    "\n",
    "w.create_line(0,0,200,100)\n",
    "w.create_line(0,100,200,0,fill = \"red\", dash=(10,10))\n",
    "w.create_rectangle(50,25,150,75, fill=\"blue\")\n",
    "mainloop()"
   ]
  },
  {
   "cell_type": "code",
   "execution_count": 27,
   "metadata": {
    "collapsed": false
   },
   "outputs": [],
   "source": [
    "from Tkinter import *\n",
    "w = Canvas(Tk(),width=500,height=500)\n",
    "w.pack()\n",
    "\n",
    "w.create_oval(100,0,0,100,fill=\"red\")\n",
    "mainloop()"
   ]
  }
 ],
 "metadata": {
  "kernelspec": {
   "display_name": "Python 2",
   "language": "python",
   "name": "python2"
  },
  "language_info": {
   "codemirror_mode": {
    "name": "ipython",
    "version": 2
   },
   "file_extension": ".py",
   "mimetype": "text/x-python",
   "name": "python",
   "nbconvert_exporter": "python",
   "pygments_lexer": "ipython2",
   "version": "2.7.8"
  }
 },
 "nbformat": 4,
 "nbformat_minor": 0
}
