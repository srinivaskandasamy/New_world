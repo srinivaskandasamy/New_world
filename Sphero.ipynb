{
 "cells": [
  {
   "cell_type": "code",
   "execution_count": 1,
   "metadata": {
    "collapsed": false
   },
   "outputs": [
    {
     "name": "stdout",
     "output_type": "stream",
     "text": [
      "[0.05403023058681397, 0.08414709848078966, 0.04207354924039483]\n"
     ]
    }
   ],
   "source": [
    "from math import cos, sin, pi\n",
    "\n",
    "WB = 2                            # RHP zero, wheel base\n",
    "\n",
    "class Sphero(object):\n",
    "    \"\"\" Creating a Sphero object for the sample maze construction. The steering angle is assumed to be small to make the \n",
    "assumption in calculations. The numerical calculations, as a result, are stable. In future, two other models like point mass \n",
    "and SO(3) will also be added if needed.\n",
    "1. In the first model, we assumed a segway model which has the same inputs as the actual robot but the measurements are not \n",
    "available as position or orientation\n",
    "2. In the second model, we assume a point mass model where the acceleration is the input to the robot as well as the measurements\n",
    "in the form of change in acceleration.\n",
    "3. The third model is a mix of both the above models, that represents an input-output model of the robot. The input to the \n",
    "system is the heading and velocity (segway) and the output is the collision in the form of change in acceleration. The segway \n",
    "model is simulated and the states are differentiatied to obtain V and A. With added noise in A, we integrate back to get the \n",
    "position of the robot. If collision is detected, we add this to the integrated data.\n",
    "\n",
    "Created by Srinivas K.\"\"\"\n",
    "    def __init__(self):\n",
    "        self.pose = [0, 0, 0]         # Pose of the robot \n",
    "        self.v = 0                    # Velocity input to the robot\n",
    "        self.g =0                     # Steering input to the robot\n",
    "    \n",
    "    def motion(self, pose, control, dt):  # Unicycle mkotion model\n",
    "        return ([x+y for x,y in zip(self.pose,[control[0]*dt*cos(control[1]+pose[2]), control[0]*dt*sin(control[1]+pose[2]), \n",
    "                                               control[0]*dt*sin(control[1])/WB])] )\n",
    "    \n",
    "    def draw(self, pose):     # Draw the Sphero robot in the simulated scene\n",
    "        r = 2     # Radius of the sphero robot\n",
    "        xsp, ysp =[], []\n",
    "        \n",
    "        for i in arange(0,360,1):      # List of spherical points\n",
    "            xsp.append(pose[0] + r * cos(i*pi/180))\n",
    "            ysp.append(pose[1] + r * sin(i*pi/180))\n",
    "            \n",
    "        return (xsp,ysp)\n",
    "        \n",
    "if __name__==\"__main__\":\n",
    "    s = Sphero()\n",
    "    pose = [0,0,0]\n",
    "    control = [1,1]\n",
    "    pose = s.motion(pose,control,0.1)\n",
    "    print pose"
   ]
  }
 ],
 "metadata": {
  "kernelspec": {
   "display_name": "Python 2",
   "language": "python",
   "name": "python2"
  },
  "language_info": {
   "codemirror_mode": {
    "name": "ipython",
    "version": 2
   },
   "file_extension": ".py",
   "mimetype": "text/x-python",
   "name": "python",
   "nbconvert_exporter": "python",
   "pygments_lexer": "ipython2",
   "version": "2.7.8"
  }
 },
 "nbformat": 4,
 "nbformat_minor": 0
}
