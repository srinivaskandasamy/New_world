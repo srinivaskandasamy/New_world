{
 "cells": [
  {
   "cell_type": "code",
   "execution_count": null,
   "metadata": {
    "collapsed": false
   },
   "outputs": [],
   "source": [
    "from math import cos, sin, pi\n",
    "\n",
    "WB = 2                            # RHP zero, wheel base\n",
    "\n",
    "class Sphero(object):\n",
    "    \"\"\" Creating a Sphero object for the sample maze construction. The steering angle is assumed to be small to make the \n",
    "assumption in calculations. The numerical calculations, as a result, are stable. In future, two other models like point mass \n",
    "and SO(3) will also be added if needed.\n",
    "\n",
    "Created by Srinivas K.\"\"\"\n",
    "    def __init__(self):\n",
    "        self.pose = [0, 0, 0]         # Pose of the robot \n",
    "        self.v = 0                    # Velocity input to the robot\n",
    "        self.g =0                     # Steering input to the robot\n",
    "    \n",
    "    def motion(self, pose, control, dt):  # Unicycle mkotion model\n",
    "        return ([x+y for x,y in zip(self.pose,[control[0]*dt*cos(control[1]+pose[2]), control[0]*dt*sin(control[1]+pose[2]), \n",
    "                                               control[0]*dt*sin(control[1])/WB])] )\n",
    "    \n",
    "if __name__==\"__main__\":\n",
    "    s = Sphero()\n",
    "    pose = [0,0,0]\n",
    "    control = [1,1]\n",
    "    pose = s.motion(pose,control,0.1)\n",
    "    print pose"
   ]
  }
 ],
 "metadata": {
  "kernelspec": {
   "display_name": "Python 2",
   "language": "python",
   "name": "python2"
  },
  "language_info": {
   "codemirror_mode": {
    "name": "ipython",
    "version": 2
   },
   "file_extension": ".py",
   "mimetype": "text/x-python",
   "name": "python",
   "nbconvert_exporter": "python",
   "pygments_lexer": "ipython2",
   "version": "2.7.8"
  }
 },
 "nbformat": 4,
 "nbformat_minor": 0
}
