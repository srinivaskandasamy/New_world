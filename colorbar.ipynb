{
 "cells": [
  {
   "cell_type": "code",
   "execution_count": 65,
   "metadata": {
    "collapsed": false
   },
   "outputs": [],
   "source": [
    "import matplotlib as mpl\n",
    "import matplotlib.pyplot as pyplot\n",
    "fig = pyplot.figure(figsize=(3,3))\n",
    "\n",
    "ax1 = fig.add_axes([0.5, 0.5, 0.4, 0.05]) # GUI rectangle creation\n",
    "ax1.set_axis_off()\n",
    "ax2 = fig.add_axes([0.1,0.5,0.4,0.05])\n",
    "ax2.set_axis_off()\n",
    "cmap1 = mpl.cm.gray\n",
    "cmap2 = mpl.cm.Greys\n",
    "norm = mpl.colors.Normalize()\n",
    "cb1 = mpl.colorbar.ColorbarBase(ax1, cmap=cmap1,\n",
    "                                   norm=norm,\n",
    "                                   orientation='horizontal')\n",
    "cb2 = mpl.colorbar.ColorbarBase(ax2, cmap=cmap2,\n",
    "                                   norm=norm,\n",
    "                                   orientation='horizontal')\n",
    "\n",
    "pyplot.show()"
   ]
  },
  {
   "cell_type": "code",
   "execution_count": 64,
   "metadata": {
    "collapsed": true
   },
   "outputs": [],
   "source": [
    "import matplotlib as mpl\n",
    "import matplotlib.pyplot as pyplot\n",
    "fig = pyplot.figure(figsize=(8,8))\n",
    "\n",
    "ax1 = fig.add_axes([0.49, 0.5, 0.05, 0.45]) # GUI rectangle creation\n",
    "ax1.set_axis_off()\n",
    "ax2 = fig.add_axes([0.49, 0.05, 0.05, 0.45]) # GUI rectangle creation\n",
    "ax2.set_axis_off()\n",
    "cmap1 = mpl.cm.gray\n",
    "cmap2 = mpl.cm.Greys\n",
    "norm = mpl.colors.Normalize()\n",
    "cb1 = mpl.colorbar.ColorbarBase(ax1, cmap=cmap1,\n",
    "                                   norm=norm,\n",
    "                                   orientation='vertical')\n",
    "cb1 = mpl.colorbar.ColorbarBase(ax2, cmap=cmap2,\n",
    "                                   norm=norm,\n",
    "                                   orientation='vertical')\n",
    "\n",
    "pyplot.show()"
   ]
  }
 ],
 "metadata": {
  "kernelspec": {
   "display_name": "Python 2",
   "language": "python",
   "name": "python2"
  },
  "language_info": {
   "codemirror_mode": {
    "name": "ipython",
    "version": 2
   },
   "file_extension": ".py",
   "mimetype": "text/x-python",
   "name": "python",
   "nbconvert_exporter": "python",
   "pygments_lexer": "ipython2",
   "version": "2.7.8"
  }
 },
 "nbformat": 4,
 "nbformat_minor": 0
}
