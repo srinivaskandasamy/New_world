{
 "cells": [
  {
   "cell_type": "code",
   "execution_count": 6,
   "metadata": {
    "collapsed": true
   },
   "outputs": [],
   "source": [
    "from Tkinter import Tk, Button\n",
    "import numpy as np\n",
    "import matplotlib.pyplot as plt\n",
    "import matplotlib as mpl\n",
    "from matplotlib.backends.backend_tkagg import FigureCanvasTkAgg, NavigationToolbar2TkAgg\n",
    "\n",
    "def main():\n",
    "    ax1 = fig.add_axes([0.5, 0.5, 0.05, 0.25]) # GUI rectangle creation\n",
    "    ax1.set_axis_off()\n",
    "    ax2 = fig.add_axes([0.5,0.25,0.05,0.25])\n",
    "    ax2.set_axis_off()\n",
    "    cmap1 = mpl.cm.gray\n",
    "    cmap2 = mpl.cm.Greys\n",
    "    norm = mpl.colors.Normalize()\n",
    "    cb1 = mpl.colorbar.ColorbarBase(ax1, cmap=cmap1,\n",
    "                                   norm=norm,\n",
    "                                   orientation='horizontal')\n",
    "    cb2 = mpl.colorbar.ColorbarBase(ax2, cmap=cmap2,\n",
    "                                   norm=norm,\n",
    "                                   orientation='horizontal')\n",
    "    \n",
    "    plt.gcf().canvas.draw()\n",
    "\n",
    "# GUI\n",
    "root = Tk()\n",
    "\n",
    "draw_button = Button(root, text=\"Plot!\", command = main)\n",
    "draw_button.grid(row=0, column=0)\n",
    "\n",
    "# init figure\n",
    "fig = plt.figure(figsize=(10,10))\n",
    "\n",
    "canvas = FigureCanvasTkAgg(fig, master=root)\n",
    "toolbar = NavigationToolbar2TkAgg(canvas, root)\n",
    "canvas.get_tk_widget().grid(row=0,column=1)\n",
    "toolbar.grid(row=1,column=1)\n",
    "\n",
    "root.mainloop()"
   ]
  },
  {
   "cell_type": "code",
   "execution_count": 5,
   "metadata": {
    "collapsed": false
   },
   "outputs": [],
   "source": [
    "import matplotlib as mpl\n",
    "import matplotlib.pyplot as pyplot\n",
    "fig = pyplot.figure(figsize=(3,3))\n",
    "\n",
    "ax1 = fig.add_axes([0.5, 0.5, 0.4, 0.05]) # GUI rectangle creation\n",
    "ax1.set_axis_off()\n",
    "ax2 = fig.add_axes([0.1,0.5,0.4,0.05])\n",
    "ax2.set_axis_off()\n",
    "cmap1 = mpl.cm.gray\n",
    "cmap2 = mpl.cm.Greys\n",
    "norm = mpl.colors.Normalize()\n",
    "cb1 = mpl.colorbar.ColorbarBase(ax1, cmap=cmap1,\n",
    "                                   norm=norm,\n",
    "                                   orientation='horizontal')\n",
    "cb1.outline.set_visible(False)\n",
    "cb2 = mpl.colorbar.ColorbarBase(ax2, cmap=cmap2,\n",
    "                                   norm=norm,\n",
    "                                   orientation='horizontal')\n",
    "\n",
    "pyplot.show() "
   ]
  },
  {
   "cell_type": "code",
   "execution_count": 9,
   "metadata": {
    "collapsed": true
   },
   "outputs": [],
   "source": [
    "import matplotlib as mpl\n",
    "import matplotlib.pyplot as pyplot\n",
    "fig = pyplot.figure(figsize=(8,8))\n",
    "\n",
    "ax1 = fig.add_axes([0.49, 0.5, 0.05, 0.45]) # GUI rectangle creation\n",
    "ax1.set_axis_off()\n",
    "ax2 = fig.add_axes([0.49, 0.05, 0.05, 0.45]) # GUI rectangle creation\n",
    "ax2.set_axis_off()\n",
    "# cmap1 = mpl.cm.gray\n",
    "cmap1 = mpl.colors.ListedColormap([[1, 1, 1], [0, 0, 0],\n",
    "    [1., .8, 0.], [1., .4, 0.]])\n",
    "cmap2 = mpl.cm.Greys\n",
    "norm = mpl.colors.Normalize()\n",
    "cb1 = mpl.colorbar.ColorbarBase(ax1, cmap=cmap1,\n",
    "                                   norm=norm,\n",
    "                                   orientation='vertical')\n",
    "cb1.outline.set_visible(False)\n",
    "cb1 = mpl.colorbar.ColorbarBase(ax2, cmap=cmap2,\n",
    "                                   norm=norm,\n",
    "                                   orientation='vertical')\n",
    "cb1.outline.set_visible(False)\n",
    "\n",
    "pyplot.show()"
   ]
  },
  {
   "cell_type": "code",
   "execution_count": 5,
   "metadata": {
    "collapsed": false
   },
   "outputs": [
    {
     "name": "stdout",
     "output_type": "stream",
     "text": [
      "256\n"
     ]
    }
   ],
   "source": [
    "print cmap1.N"
   ]
  }
 ],
 "metadata": {
  "kernelspec": {
   "display_name": "Python 2",
   "language": "python",
   "name": "python2"
  },
  "language_info": {
   "codemirror_mode": {
    "name": "ipython",
    "version": 2
   },
   "file_extension": ".py",
   "mimetype": "text/x-python",
   "name": "python",
   "nbconvert_exporter": "python",
   "pygments_lexer": "ipython2",
   "version": "2.7.8"
  }
 },
 "nbformat": 4,
 "nbformat_minor": 0
}
