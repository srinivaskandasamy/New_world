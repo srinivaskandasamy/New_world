{
 "cells": [
  {
   "cell_type": "code",
   "execution_count": 14,
   "metadata": {
    "collapsed": false
   },
   "outputs": [
    {
     "name": "stdout",
     "output_type": "stream",
     "text": [
      "[109.99998476913288, 150.017453283659, 0.008726641829491543]\n",
      "[119.99943646325195, 150.12217108051908, 0.017453283658983087]\n",
      "[129.99759358616947, 150.3141454159227, 0.02617992548847463]\n",
      "[139.9936947402842, 150.5933616702958, 0.034906567317966174]\n",
      "[149.98697868456475, 150.95979858026118, 0.04363320914745772]\n",
      "[159.9766843925209, 151.41342824025776, 0.052359850976949264]\n",
      "[169.9620511101587, 151.9542161046657, 0.06108649280644081]\n",
      "[179.94231841391488, 152.5821209904372, 0.06981313463593235]\n",
      "[189.91672626856575, 153.29709508023274, 0.07853977646542389]\n",
      "[199.88451508510698, 154.09908392606252, 0.08726641829491542]\n",
      "[209.8449257785991, 154.98802645343292, 0.09599306012440696]\n"
     ]
    }
   ],
   "source": [
    "from math import cos, sin, pi\n",
    "\n",
    "WB = 2                            # RHP zero, wheel base\n",
    "\n",
    "class Sphero(object):\n",
    "    \"\"\" Creating a Sphero object for the sample maze construction. The steering angle is assumed to be small to make the \n",
    "assumption in calculations. The numerical calculations, as a result, are stable. In future, two other models like point mass \n",
    "and SO(3) will also be added if needed.\n",
    "1. In the first model, we assumed a segway model which has the same inputs as the actual robot but the measurements are not \n",
    "available as position or orientation\n",
    "2. In the second model, we assume a point mass model where the acceleration is the input to the robot as well as the measurements\n",
    "in the form of change in acceleration.\n",
    "3. The third model is a mix of both the above models, that represents an input-output model of the robot. The input to the \n",
    "system is the heading and velocity (segway) and the output is the collision in the form of change in acceleration. The segway \n",
    "model is simulated and the states are differentiatied to obtain V and A. With added noise in A, we integrate back to get the \n",
    "position of the robot. If collision is detected, we add this to the integrated data.\n",
    "\n",
    "Created by Srinivas K.\"\"\"\n",
    "    def __init__(self):\n",
    "        pass\n",
    "    \n",
    "    def motion(self, pose, control, dt):  # Unicycle mkotion model\n",
    "        return ([x+y for x,y in zip(pose,[control[0]*dt*cos(control[1]*pi/180+pose[2]), \n",
    "                                          control[0]*dt*sin(control[1]*pi/180+pose[2]), \n",
    "                                          control[0]*dt*sin(control[1]*pi/180)/WB])])\n",
    "#         pose[0]=pose[0]+control[0]*dt*cos(control[1]*pi/180+pose[2])\n",
    "#         pose[1]=pose[1]+control[0]*dt*sin(control[1]*pi/180+pose[2])\n",
    "#         pose[2]=pose[2]+control[0]*dt*sin(control[1]*pi/180)/WB\n",
    "        \n",
    "        return pose\n",
    "    \n",
    "    def draw(self, pose):     # Draw the Sphero robot in the simulated scene\n",
    "        r = 2     # Radius of the sphero robot\n",
    "        xsp, ysp =[], []\n",
    "        \n",
    "        for i in arange(0,360,1):      # List of spherical points\n",
    "            xsp.append(pose[0] + r * cos(i*pi/180))\n",
    "            ysp.append(pose[1] + r * sin(i*pi/180))\n",
    "            \n",
    "        return (xsp,ysp)\n",
    "        \n",
    "if __name__==\"__main__\":\n",
    "    s = Sphero()\n",
    "    pose = [100,150,0]\n",
    "    control = [100,0.1]\n",
    "    pose = s.motion(pose,control,0.1)\n",
    "    print pose\n",
    "    for i in range(10):\n",
    "        pose = s.motion(pose,control,0.1)\n",
    "        print pose"
   ]
  },
  {
   "cell_type": "code",
   "execution_count": 10,
   "metadata": {
    "collapsed": false
   },
   "outputs": [
    {
     "data": {
      "text/plain": [
       "0.5000000000000001"
      ]
     },
     "execution_count": 10,
     "metadata": {},
     "output_type": "execute_result"
    }
   ],
   "source": [
    "cos(60*pi/180)"
   ]
  }
 ],
 "metadata": {
  "kernelspec": {
   "display_name": "Python 2",
   "language": "python",
   "name": "python2"
  },
  "language_info": {
   "codemirror_mode": {
    "name": "ipython",
    "version": 2
   },
   "file_extension": ".py",
   "mimetype": "text/x-python",
   "name": "python",
   "nbconvert_exporter": "python",
   "pygments_lexer": "ipython2",
   "version": "2.7.8"
  }
 },
 "nbformat": 4,
 "nbformat_minor": 0
}
