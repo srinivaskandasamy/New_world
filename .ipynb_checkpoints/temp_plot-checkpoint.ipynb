{
 "cells": [
  {
   "cell_type": "code",
   "execution_count": null,
   "metadata": {
    "collapsed": false
   },
   "outputs": [],
   "source": [
    "import numpy as np\n",
    "f = np.loadtxt(r\"C:\\Users\\localadmin.TUD0035314\\Documents\\GitHub\\New_world\\robot_trajectory.txt\")\n",
    "xdata = f.T[0]\n",
    "ydata = f.T[1]"
   ]
  },
  {
   "cell_type": "code",
   "execution_count": null,
   "metadata": {
    "collapsed": false
   },
   "outputs": [],
   "source": [
    "# Data Visualization\n",
    "from IPython import display\n",
    "import matplotlib.pyplot as plt\n",
    "%matplotlib inline\n",
    "\n",
    "fig = plt.figure(figsize=(12,12), dpi=100)\n",
    "plt.ion()\n",
    "ax1 = fig.add_subplot(1,1,1)\n",
    "background = fig.canvas.copy_from_bbox(ax1.bbox)\n",
    "ax1.set_xlim(min(xdata)-10,max(xdata)+10)\n",
    "ax1.set_ylim(min(ydata)-10,max(ydata)+10)\n",
    "ax1.set_xlabel('x position')\n",
    "ax1.set_ylabel('y position')\n",
    "ax1.set_title('Odometry data')\n",
    "ax1.grid()\n",
    "line, = ax1.plot(xdata,ydata,'-',alpha=0.7)\n",
    "\n",
    "for i in range(len(xdata)):\n",
    "    fig.canvas.restore_region(background)\n",
    "    fig.canvas.blit(ax1.bbox)\n",
    "    line.set_xdata(xdata[0:i])\n",
    "    line.set_ydata(ydata[0:i])\n",
    "    display.clear_output(wait=True)\n",
    "    display.display(plt.gcf())\n",
    "    ax1.hold(True)"
   ]
  }
 ],
 "metadata": {
  "kernelspec": {
   "display_name": "Python 2",
   "language": "python",
   "name": "python2"
  },
  "language_info": {
   "codemirror_mode": {
    "name": "ipython",
    "version": 2
   },
   "file_extension": ".py",
   "mimetype": "text/x-python",
   "name": "python",
   "nbconvert_exporter": "python",
   "pygments_lexer": "ipython2",
   "version": "2.7.8"
  }
 },
 "nbformat": 4,
 "nbformat_minor": 0
}
