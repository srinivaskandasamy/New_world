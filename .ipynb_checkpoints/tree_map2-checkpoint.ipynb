{
 "cells": [
  {
   "cell_type": "code",
   "execution_count": 1,
   "metadata": {
    "collapsed": false
   },
   "outputs": [
    {
     "ename": "IOError",
     "evalue": "[Errno 2] No such file or directory: 'C:\\\\Users\\\\localadmin.TUD0035314\\\\Documents\\\\GitHub\\\\New_world\\\\robot_trajectory.txt'",
     "output_type": "error",
     "traceback": [
      "\u001b[1;31m---------------------------------------------------------------------------\u001b[0m",
      "\u001b[1;31mIOError\u001b[0m                                   Traceback (most recent call last)",
      "\u001b[1;32m<ipython-input-1-ab2b6890010a>\u001b[0m in \u001b[0;36m<module>\u001b[1;34m()\u001b[0m\n\u001b[0;32m      1\u001b[0m \u001b[1;32mfrom\u001b[0m \u001b[0mnumpy\u001b[0m \u001b[1;32mimport\u001b[0m \u001b[0mloadtxt\u001b[0m\u001b[1;33m,\u001b[0m \u001b[0mpi\u001b[0m\u001b[1;33m\u001b[0m\u001b[0m\n\u001b[1;32m----> 2\u001b[1;33m \u001b[0mpath\u001b[0m \u001b[1;33m=\u001b[0m \u001b[0mloadtxt\u001b[0m\u001b[1;33m(\u001b[0m\u001b[1;34mr\"C:\\Users\\localadmin.TUD0035314\\Documents\\GitHub\\New_world\\robot_trajectory.txt\"\u001b[0m\u001b[1;33m)\u001b[0m\u001b[1;33m\u001b[0m\u001b[0m\n\u001b[0m\u001b[0;32m      3\u001b[0m \u001b[0mposes\u001b[0m \u001b[1;33m=\u001b[0m \u001b[1;33m[\u001b[0m\u001b[1;33m]\u001b[0m\u001b[1;33m\u001b[0m\u001b[0m\n\u001b[0;32m      4\u001b[0m \u001b[1;32mfor\u001b[0m \u001b[0mi\u001b[0m \u001b[1;32min\u001b[0m \u001b[0mrange\u001b[0m\u001b[1;33m(\u001b[0m\u001b[0mlen\u001b[0m\u001b[1;33m(\u001b[0m\u001b[0mpath\u001b[0m\u001b[1;33m)\u001b[0m\u001b[1;33m)\u001b[0m\u001b[1;33m:\u001b[0m\u001b[1;33m\u001b[0m\u001b[0m\n\u001b[0;32m      5\u001b[0m     \u001b[1;32mif\u001b[0m \u001b[0mpath\u001b[0m\u001b[1;33m[\u001b[0m\u001b[0mi\u001b[0m\u001b[1;33m]\u001b[0m\u001b[1;33m[\u001b[0m\u001b[1;36m3\u001b[0m\u001b[1;33m]\u001b[0m\u001b[1;33m!=\u001b[0m\u001b[1;36m0\u001b[0m\u001b[1;33m:\u001b[0m\u001b[1;33m\u001b[0m\u001b[0m\n",
      "\u001b[1;32mC:\\Users\\Srinivas\\Anaconda\\lib\\site-packages\\numpy\\lib\\npyio.pyc\u001b[0m in \u001b[0;36mloadtxt\u001b[1;34m(fname, dtype, comments, delimiter, converters, skiprows, usecols, unpack, ndmin)\u001b[0m\n\u001b[0;32m    736\u001b[0m                 \u001b[0mfh\u001b[0m \u001b[1;33m=\u001b[0m \u001b[0miter\u001b[0m\u001b[1;33m(\u001b[0m\u001b[0mbz2\u001b[0m\u001b[1;33m.\u001b[0m\u001b[0mBZ2File\u001b[0m\u001b[1;33m(\u001b[0m\u001b[0mfname\u001b[0m\u001b[1;33m)\u001b[0m\u001b[1;33m)\u001b[0m\u001b[1;33m\u001b[0m\u001b[0m\n\u001b[0;32m    737\u001b[0m             \u001b[1;32melif\u001b[0m \u001b[0msys\u001b[0m\u001b[1;33m.\u001b[0m\u001b[0mversion_info\u001b[0m\u001b[1;33m[\u001b[0m\u001b[1;36m0\u001b[0m\u001b[1;33m]\u001b[0m \u001b[1;33m==\u001b[0m \u001b[1;36m2\u001b[0m\u001b[1;33m:\u001b[0m\u001b[1;33m\u001b[0m\u001b[0m\n\u001b[1;32m--> 738\u001b[1;33m                 \u001b[0mfh\u001b[0m \u001b[1;33m=\u001b[0m \u001b[0miter\u001b[0m\u001b[1;33m(\u001b[0m\u001b[0mopen\u001b[0m\u001b[1;33m(\u001b[0m\u001b[0mfname\u001b[0m\u001b[1;33m,\u001b[0m \u001b[1;34m'U'\u001b[0m\u001b[1;33m)\u001b[0m\u001b[1;33m)\u001b[0m\u001b[1;33m\u001b[0m\u001b[0m\n\u001b[0m\u001b[0;32m    739\u001b[0m             \u001b[1;32melse\u001b[0m\u001b[1;33m:\u001b[0m\u001b[1;33m\u001b[0m\u001b[0m\n\u001b[0;32m    740\u001b[0m                 \u001b[0mfh\u001b[0m \u001b[1;33m=\u001b[0m \u001b[0miter\u001b[0m\u001b[1;33m(\u001b[0m\u001b[0mopen\u001b[0m\u001b[1;33m(\u001b[0m\u001b[0mfname\u001b[0m\u001b[1;33m)\u001b[0m\u001b[1;33m)\u001b[0m\u001b[1;33m\u001b[0m\u001b[0m\n",
      "\u001b[1;31mIOError\u001b[0m: [Errno 2] No such file or directory: 'C:\\\\Users\\\\localadmin.TUD0035314\\\\Documents\\\\GitHub\\\\New_world\\\\robot_trajectory.txt'"
     ]
    }
   ],
   "source": [
    "from numpy import loadtxt, pi\n",
    "path = loadtxt(r\"C:\\Users\\Srinivas\\Documents\\GitHub\\New_world\\robot_trajectory.txt\")\n",
    "poses = []\n",
    "for i in range(len(path)):\n",
    "    if path[i][3]!=0:\n",
    "        if path[i][3] == 1:\n",
    "            poses.append([path[i][0],path[i][1],path[i-1][2],pi])\n",
    "        elif path[i][3] == 3:\n",
    "            poses.append([path[i][0],path[i][1],path[i-1][2],0])\n",
    "        elif path[i][3] == 2:\n",
    "            poses.append([path[i][0],path[i][1],path[i-1][2],3*pi/2])\n",
    "        elif path[i][3] == 4:\n",
    "            poses.append([path[i][0],path[i][1],path[i-1][2],pi/2])\n",
    "\n",
    "lposes = len(poses)"
   ]
  },
  {
   "cell_type": "code",
   "execution_count": 193,
   "metadata": {
    "collapsed": false,
    "scrolled": false
   },
   "outputs": [],
   "source": [
    "from __future__ import division\n",
    "from numpy import arange\n",
    "import sys\n",
    "w = [['0'],['90'],['180'],['270']]\n",
    "l  =  480\n",
    "ww =  30\n",
    "var = 0\n",
    "wall_list=[]\n",
    "for i in range(20): # Measurement\n",
    "    for j in range(4): # Wall type\n",
    "        wo = poses[i][3]*(180/pi)\n",
    "        if wo == int(w[j][0]): # Correspond the measurement to the leaf of the tree\n",
    "            if wo % 180 == 0:\n",
    "                m = 0 # Flag to check for update\n",
    "                for k in range(len(w[j])):\n",
    "                    if poses[i][0] == w[j][k][0]:\n",
    "                        wall_list[w[j][k][1]][int(poses[i][1])] = 1\n",
    "                        m = 1\n",
    "                \n",
    "                if m == 0:\n",
    "                    # Create a new list and update them\n",
    "                    r = 0\n",
    "                    if len(w[(j+2)%4]) != 1:\n",
    "                        for k in arange(1,len(w[(j+2)%4]),1):\n",
    "                            if (poses[i][0]-ww) == w[(j+2)%4][k][0]:\n",
    "                                w[j].insert(1,[poses[i][0],w[(j+2)%4][k][1]])\n",
    "                                wall_list[w[(j+2)%4][k][1]][int(poses[i][1])] = 1\n",
    "                                r = 1\n",
    "                            elif (poses[i][0]+ww) == w[(j+2)%4][k][0]:\n",
    "                                w[j].insert(1,[poses[i][0],w[(j+2)%4][k][1]])\n",
    "                                wall_list[w[(j+2)%4][k][1]][int(poses[i][1])] = 1\n",
    "                                r = 1\n",
    "                    if r == 0:\n",
    "                        w[j].insert(1,[poses[i][0],var])\n",
    "                        var=var+1\n",
    "                        wall_list.append([1/l]*l)\n",
    "                    \n",
    "            else:\n",
    "                m = 0\n",
    "                for k in range(len(w[j])):\n",
    "                    if poses[i][1] == w[j][k][0]:\n",
    "                        wall_list[w[j][k][1]][int(poses[i][0])] = 1\n",
    "                        m = 1\n",
    "                if m == 0:\n",
    "                    # Create a new list\n",
    "                    r = 0\n",
    "                    if len(w[(j+2)%4]) != 1:\n",
    "                        for k in arange(1,len(w[(j+2)%4]),1):\n",
    "                            if poses[i][1]-ww == w[(j+2)%4][k][1]: \n",
    "                                w[j].insert(1,[poses[i][1]-ww,w[(j+2)%4][k][1]])\n",
    "                                wall_list[w[(j+2)%4][k][1]][int(poses[i][0])] = 1\n",
    "                                r = 1\n",
    "                            elif poses[i][1]+ww == w[(j+2)%4][k][0]: \n",
    "                                w[j].insert(1,[poses[i][1]+ww,w[(j+2)%4][k][1]])\n",
    "                                wall_list[w[(j+2)%4][k][1]][int(poses[i][0])] = 1\n",
    "                                r = 1\n",
    "                    if r == 0:\n",
    "                        w[j].insert(1,[poses[i][1],var])\n",
    "                        var=var+1\n",
    "                        wall_list.append([1/l]*l)"
   ]
  }
 ],
 "metadata": {
  "kernelspec": {
   "display_name": "Python 2",
   "language": "python",
   "name": "python2"
  },
  "language_info": {
   "codemirror_mode": {
    "name": "ipython",
    "version": 2
   },
   "file_extension": ".py",
   "mimetype": "text/x-python",
   "name": "python",
   "nbconvert_exporter": "python",
   "pygments_lexer": "ipython2",
   "version": "2.7.8"
  }
 },
 "nbformat": 4,
 "nbformat_minor": 0
}
