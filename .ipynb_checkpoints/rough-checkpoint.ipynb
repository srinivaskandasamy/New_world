{
 "cells": [
  {
   "cell_type": "code",
   "execution_count": 43,
   "metadata": {
    "collapsed": false
   },
   "outputs": [
    {
     "name": "stdout",
     "output_type": "stream",
     "text": [
      "Lines parallel to x axis\n",
      "[[12, 12, 490, 12], [490, 490, 12, 490]]\n",
      "Lines parallel to y axis\n",
      "[[12, 12, 12, 490], [126, 12, 126, 385], [251, 136, 251, 490], [375, 12, 375, 385], [490, 12, 490, 490]]\n"
     ]
    }
   ],
   "source": [
    "def voronoi_set(origin,ws,ww,wl): # Can be used for planning as well\n",
    "    \n",
    "    edges,edge_mx,edge_my = [],[],[]\n",
    "    edges.append([origin[0]+ww,origin[1]+ww,origin[0]-ww+ws[0],origin[1]+ww]) # ai\n",
    "    edges.append([origin[0]-ww+ws[0],origin[1]+ww,origin[0]-ww+ws[0],origin[1]-ww+ws[1]]) # ij\n",
    "    edges.append([origin[0]-ww+ws[0],origin[1]-ww+ws[1],origin[0]+ww,origin[1]-ww+ws[1]]) #cj\n",
    "    edges.append([origin[0]+ww,origin[1]+ww,origin[0]+ww,origin[1]-ww+ws[1]]) #ac\n",
    "    edges.append(wl[0])\n",
    "    edges.append(wl[1])\n",
    "    edges.append(wl[2])\n",
    "\n",
    "    for i in range(len(edges)):\n",
    "        if edges[i][0]-edges[i][2]==0: # Lines parallel to the y axis\n",
    "            edge_my.append(edges[i]) \n",
    "        elif edges[i][1]-edges[i][3]==0: # Lines parallel to the x axis\n",
    "            edge_mx.append(edges[i])\n",
    "        else:\n",
    "            print \"Wrong edge included, rectilinear assumption\", edges[i]\n",
    "    \n",
    "    edge_mx = sorted(edge_mx, key=lambda tup:tup[1]) # Sort lines parallel to x-axis based on the second argument\n",
    "    edge_my = sorted(edge_my, key=lambda tup:tup[0]) # Sort lines parallel to y-axis based on the first argument\n",
    "    \n",
    "    # Creating the voronoi sets\n",
    "    if len(edge_my) > len(edge_mx):\n",
    "        # Use first argument as 1\n",
    "#         y1 = [edge_my[i][1],edge_my[i][3]]\n",
    "#         y2 = [edge_my[i+1][1],edge_my[i+1][3]]\n",
    "        xbox = [edge_my[i][0],edge_my[i][2]]\n",
    "        ybox = [min(edge_my[i][1],edge_my[i][3])]\n",
    "        box.append([edge_my[i][0],edge_my[i][2]])\n",
    "        # Line 1 edge_my[i][1] <= y <= edge_my[i][3] 12<=y<=385 \n",
    "        # Line 2 edge_my[i+1][1] <= y <= edge_my[i+1][3] 136<=y<=490\n",
    "        # Create soft lines - x variation is known between consecutive lines and intersection of y coordinates can be found to get box\n",
    "        # Then go for argument 0\n",
    "        \n",
    "    else:\n",
    "        # Use first argument as 0\n",
    "    \n",
    "    return (edge_mx,edge_my)\n",
    "    \n",
    "\n",
    "origin = (2,2)\n",
    "world_size = (498, 498)   # 750,750\n",
    "wall_width = 10 \n",
    "wall_location =[[origin[0]+(world_size[0])/4,origin[1]+wall_width,origin[0]+(world_size[0])/4,origin[1]+wall_width+(world_size[1])*3/4],\n",
    "               [origin[0]+(world_size[0])/2,origin[1]+wall_width+(world_size[1])*1/4,origin[0]+(world_size[0])/2,origin[1]-wall_width+world_size[1]],\n",
    "               [origin[0]+(world_size[0])*3/4,origin[1]+wall_width,origin[0]+(world_size[0])*3/4,origin[1]+wall_width+(world_size[1])*3/4]] \n",
    "\n",
    "box = voronoi_set(origin,world_size,wall_width,wall_location)\n",
    "print \"Lines parallel to x axis\"\n",
    "print box[0]\n",
    "print \"Lines parallel to y axis\"\n",
    "print box[1]"
   ]
  },
  {
   "cell_type": "code",
   "execution_count": 40,
   "metadata": {
    "collapsed": false
   },
   "outputs": [
    {
     "name": "stdout",
     "output_type": "stream",
     "text": [
      "[[12, 1], [65, 2], [3, 3], [1, 4], [70, 5]]\n"
     ]
    }
   ],
   "source": [
    "p=[[12,1],[65,2],[3,3],[1,4],[70,5]]\n",
    "print sorted(p, key=lambda tup:tup[1])"
   ]
  },
  {
   "cell_type": "code",
   "execution_count": 45,
   "metadata": {
    "collapsed": false
   },
   "outputs": [
    {
     "data": {
      "text/plain": [
       "1"
      ]
     },
     "execution_count": 45,
     "metadata": {},
     "output_type": "execute_result"
    }
   ],
   "source": [
    "min(1,20)"
   ]
  }
 ],
 "metadata": {
  "kernelspec": {
   "display_name": "Python 2",
   "language": "python",
   "name": "python2"
  },
  "language_info": {
   "codemirror_mode": {
    "name": "ipython",
    "version": 2
   },
   "file_extension": ".py",
   "mimetype": "text/x-python",
   "name": "python",
   "nbconvert_exporter": "python",
   "pygments_lexer": "ipython2",
   "version": "2.7.8"
  }
 },
 "nbformat": 4,
 "nbformat_minor": 0
}
