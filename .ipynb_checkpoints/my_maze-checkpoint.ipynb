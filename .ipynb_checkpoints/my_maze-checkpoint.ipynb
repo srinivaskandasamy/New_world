{
 "cells": [
  {
   "cell_type": "code",
   "execution_count": 84,
   "metadata": {
    "collapsed": false,
    "scrolled": false
   },
   "outputs": [],
   "source": [
    "from Tkinter import *\n",
    "from math import sin, cos, pi, fabs\n",
    "from numpy import sign\n",
    "import sys\n",
    "\n",
    "# Class Sphero - robot object to be created (Done) %run Sphero.ipynb\n",
    "# Class Walls to be created\n",
    "# Class world to be created which contains the boundaries, walls (worls is a parent for walls, trajectory, entry and exit points)\n",
    "# Class Sphero_trajectory - Creating the waypoint trajectory for the robot (child of room)\n",
    "# Class 1D - Gaussian along the wall to represent the collision (this will become the child of walls)\n",
    "\n",
    "class world(object):\n",
    "    \"\"\" An artificial world is created for the SLAM problem. The other objects in the world are child classes in the artificial \n",
    "    world\"\"\"\n",
    "    def draw(self, at_step):\n",
    "        print \"Object to be drawn at certain point of time:\", at_step\n",
    "        \n",
    "    def background_draw(self):\n",
    "        print \"Background to be drawn\"\n",
    "        \n",
    "class boundaries(object):\n",
    "    \n",
    "    def __init__(self, world_size, boundary_width):\n",
    "        self.world_size = world_size\n",
    "        self.wall_width = wall_width\n",
    "        self.parray = []   # Consider preallocation for faster memory access\n",
    "        \n",
    "    def draw(self,origin,w):\n",
    "        a = origin[0] \n",
    "        b = origin[1]    # to be added in the main loop\n",
    "        # Outer boundary\n",
    "        w.create_line(a,b,a+self.world_size[0],b)\n",
    "        w.create_line(a+self.world_size[0],b, a+self.world_size[0],b+self.world_size[1])\n",
    "        w.create_line(a,b,a,b+self.world_size[1])\n",
    "        w.create_line(a,b+self.world_size[1],a+self.world_size[0],b+self.world_size[1])\n",
    "        \n",
    "        # Inner boundary\n",
    "        w.create_line(a+self.wall_width,b+self.wall_width,\n",
    "                      a-self.wall_width+self.world_size[0],b+self.wall_width)\n",
    "        w.create_line(a-self.wall_width+self.world_size[0],b+self.wall_width, \n",
    "                      a-self.wall_width+self.world_size[0],b-self.wall_width+self.world_size[1])\n",
    "        w.create_line(a+self.wall_width,b+self.wall_width,\n",
    "                      a+self.wall_width,b-self.wall_width+self.world_size[1])\n",
    "        w.create_line(a+self.wall_width,b-self.wall_width+self.world_size[1],\n",
    "                      a-self.wall_width+self.world_size[0],b-self.wall_width+self.world_size[1])\n",
    "        \n",
    "    def boundary_grid(self,origin,w): # Defining the probability grid for the boundary by taking input as the corners\n",
    "        # Assuming corners are available in the form of a list (given in an sequential fashion)\n",
    "        a = origin[0]\n",
    "        b = origin[1]\n",
    "        d = 100     # Extent or level of discretization \n",
    "        \n",
    "        # Addition of corners in a clockwise fashion\n",
    "        corner = []\n",
    "        corner.append([a + self.wall_width, b + self.wall_width])\n",
    "        corner.append([a-self.wall_width+self.world_size[0],b+self.wall_width])\n",
    "        corner.append([a-self.wall_width+self.world_size[0],b-self.wall_width+self.world_size[1]])\n",
    "        corner.append([a+self.wall_width,b-self.wall_width+self.world_size[1]])\n",
    "\n",
    "        for j in range(len(corner)):\n",
    "            length = self.length_boundary(corner[j%len(corner)],corner[(j+1)%len(corner)])\n",
    "            if length[1] == -1:\n",
    "                print \"Error in computing slope - Not a rectilinear world\"\n",
    "                sys.exit()\n",
    "\n",
    "            for i in range(d):\n",
    "                self.parray.append([corner[j][0]+sign(corner[(j+1)%len(corner)][0]-corner[j%len(corner)][0])*sin(length[1])*length[0]*i/d,\n",
    "                                    corner[j][1]+sign(corner[(j+1)%len(corner)][1]-corner[j%len(corner)][1])*cos(length[1])*length[0]*i/d,0])\n",
    "                w.create_line(self.parray[-1][0],self.parray[-1][1],\n",
    "                              self.parray[-1][0]+sign(corner[(j+1)%len(corner)][1]-corner[j%len(corner)][1])*self.wall_width,\n",
    "                              self.parray[-1][1]-sign(corner[(j+1)%len(corner)][0]-corner[j%len(corner)][0])*self.wall_width)\n",
    "#                 w.create_rectangle(self.parray[-1][0],self.parray[-1][1],\n",
    "#                                    self.parray[-2][0]+sign(corner[(j+1)%len(corner)][1]-corner[j%len(corner)][1])*self.wall_width,\n",
    "#                                    self.parray[-2][1]-sign(corner[(j+1)%len(corner)][0]-corner[j%len(corner)][0])*self.wall_width)\n",
    "            w.create_line(corner[j%len(corner)][0],corner[j%len(corner)][1],\n",
    "                          corner[j%len(corner)][0]+sign(corner[j%len(corner)][1]-corner[(j-1)%len(corner)][1])*self.wall_width,\n",
    "                          corner[j%len(corner)][1]-sign(corner[j%len(corner)][0]-corner[(j-1)%len(corner)][0])*self.wall_width)\n",
    "        return self.parray\n",
    "        \n",
    "    def length_boundary(self,cornerA,cornerB):\n",
    "        \n",
    "        a = max(fabs(cornerA[0]-cornerB[0]),fabs(cornerA[1]-cornerB[1])) # length of the line\n",
    "        # To compute the slope of the line\n",
    "        if cornerA[0]-cornerB[0]==0:\n",
    "            b = 0\n",
    "        elif cornerA[1]-cornerB[1]==0:\n",
    "            b = pi/2\n",
    "        else: # It is already in clockwise fashion; to report if something goes false\n",
    "            b = -1\n",
    "            \n",
    "        return (a,b)\n",
    "        \n",
    "        \n",
    "if __name__ ==\"__main__\":\n",
    "\n",
    "    # Let's create my world\n",
    "    origin = (600,200) # Origin of the new world (From the output frame of Tkinter)\n",
    "    world_size = (750, 750)\n",
    "    wall_width = 10\n",
    "    \n",
    "    sri = boundaries(world_size,wall_width)\n",
    "    \n",
    "    \n",
    "    \n",
    "    master = Tk()\n",
    "    w = Canvas(master,width=2500,height=2500)\n",
    "    w.pack()\n",
    "    sri.draw(origin,w)\n",
    "    parray = sri.boundary_grid(origin,w)\n",
    "#     for i in range(len(parray)):\n",
    "#         w.create_oval(parray[i][0],parray[i][1],parray[i][0]+2,parray[i][1]+2,fill= \"red\")\n",
    "#         w.create_line(parray[i][0],parray[i][1],parray[][])\n",
    "    \n",
    "#     w.create_line(0,0,200,100)\n",
    "#     w.create_line(0,100,200,0,fill = \"red\", dash=(10,10))\n",
    "#     w.create_rectangle(50,25,150,75, fill=\"blue\")\n",
    "    mainloop()"
   ]
  },
  {
   "cell_type": "code",
   "execution_count": 80,
   "metadata": {
    "collapsed": false
   },
   "outputs": [],
   "source": [
    "from Tkinter import *\n",
    "w = Canvas(Tk(),width=500,height=500)\n",
    "w.pack()\n",
    "w.create_oval(100,0,0,100,fill=\"red\")\n",
    "w.create_rectangle(100,100,20,20,fill=\"blue\")\n",
    "w.create_line(200,200,200,300)\n",
    "mainloop()"
   ]
  },
  {
   "cell_type": "code",
   "execution_count": 25,
   "metadata": {
    "collapsed": false
   },
   "outputs": [
    {
     "ename": "TypeError",
     "evalue": "can only concatenate list (not \"int\") to list",
     "output_type": "error",
     "traceback": [
      "\u001b[1;31m---------------------------------------------------------------------------\u001b[0m",
      "\u001b[1;31mTypeError\u001b[0m                                 Traceback (most recent call last)",
      "\u001b[1;32m<ipython-input-25-48d05d8cc60a>\u001b[0m in \u001b[0;36m<module>\u001b[1;34m()\u001b[0m\n\u001b[0;32m      2\u001b[0m \u001b[0ma\u001b[0m\u001b[1;33m.\u001b[0m\u001b[0mappend\u001b[0m\u001b[1;33m(\u001b[0m\u001b[1;33m[\u001b[0m\u001b[1;36m1\u001b[0m\u001b[1;33m,\u001b[0m\u001b[1;36m2\u001b[0m\u001b[1;33m]\u001b[0m\u001b[1;33m)\u001b[0m\u001b[1;33m\u001b[0m\u001b[0m\n\u001b[0;32m      3\u001b[0m \u001b[0ma\u001b[0m\u001b[1;33m.\u001b[0m\u001b[0mappend\u001b[0m\u001b[1;33m(\u001b[0m\u001b[1;33m[\u001b[0m\u001b[1;36m3\u001b[0m\u001b[1;33m,\u001b[0m\u001b[1;36m4\u001b[0m\u001b[1;33m]\u001b[0m\u001b[1;33m)\u001b[0m\u001b[1;33m\u001b[0m\u001b[0m\n\u001b[1;32m----> 4\u001b[1;33m \u001b[0ma\u001b[0m\u001b[1;33m+\u001b[0m\u001b[1;36m3\u001b[0m\u001b[1;33m\u001b[0m\u001b[0m\n\u001b[0m",
      "\u001b[1;31mTypeError\u001b[0m: can only concatenate list (not \"int\") to list"
     ]
    }
   ],
   "source": [
    "a=[]\n",
    "a.append([1,2])\n",
    "a.append([3,4])\n",
    "a+3"
   ]
  },
  {
   "cell_type": "code",
   "execution_count": 58,
   "metadata": {
    "collapsed": false
   },
   "outputs": [
    {
     "name": "stdout",
     "output_type": "stream",
     "text": [
      "0\n"
     ]
    }
   ],
   "source": [
    "# print parray\n",
    "from numpy import sign\n",
    "print sign(0)"
   ]
  }
 ],
 "metadata": {
  "kernelspec": {
   "display_name": "Python 2",
   "language": "python",
   "name": "python2"
  },
  "language_info": {
   "codemirror_mode": {
    "name": "ipython",
    "version": 2
   },
   "file_extension": ".py",
   "mimetype": "text/x-python",
   "name": "python",
   "nbconvert_exporter": "python",
   "pygments_lexer": "ipython2",
   "version": "2.7.8"
  }
 },
 "nbformat": 4,
 "nbformat_minor": 0
}
